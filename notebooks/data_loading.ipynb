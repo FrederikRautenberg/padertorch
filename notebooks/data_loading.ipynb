{
 "cells": [
  {
   "cell_type": "code",
   "execution_count": null,
   "metadata": {},
   "outputs": [],
   "source": [
    "%matplotlib inline\n",
    "%reload_ext autoreload\n",
    "%autoreload 2"
   ]
  },
  {
   "cell_type": "code",
   "execution_count": null,
   "metadata": {},
   "outputs": [],
   "source": [
    "import os\n",
    "import time\n",
    "\n",
    "from paderbox.database.iterator import AudioReader\n",
    "from pytorch_sanity.transforms import Compose, Spectrogram\n",
    "\n",
    "from paderbox.database.timit import Timit"
   ]
  },
  {
   "cell_type": "code",
   "execution_count": null,
   "metadata": {},
   "outputs": [],
   "source": [
    "db = Timit()"
   ]
  },
  {
   "cell_type": "code",
   "execution_count": null,
   "metadata": {},
   "outputs": [],
   "source": [
    "transform_config = dict(\n",
    "    sample_rate=16000,\n",
    "    frame_step=320,\n",
    "    frame_length=960,\n",
    "    fft_length=1024,\n",
    "    window='hann',\n",
    "    padded=False,\n",
    "    n_mels=64,\n",
    "    log=True,\n",
    "    fmin=20,\n",
    "    fmax=None\n",
    ")"
   ]
  },
  {
   "cell_type": "markdown",
   "metadata": {},
   "source": [
    "# Serial"
   ]
  },
  {
   "cell_type": "code",
   "execution_count": null,
   "metadata": {},
   "outputs": [],
   "source": [
    "it = db.get_iterator_by_names('train')\n",
    "transform = Compose(AudioReader(), Spectrogram(config=transform_config))\n",
    "it = it.map(transform, num_workers=8, buffer_size=100, backend=\"mp\")"
   ]
  },
  {
   "cell_type": "code",
   "execution_count": null,
   "metadata": {},
   "outputs": [],
   "source": [
    "%%timeit -n 1 -r 1\n",
    "for i, ex in enumerate(it):\n",
    "    pass"
   ]
  },
  {
   "cell_type": "markdown",
   "metadata": {},
   "source": [
    "# Parallel Map with multiprocessing"
   ]
  },
  {
   "cell_type": "code",
   "execution_count": null,
   "metadata": {},
   "outputs": [],
   "source": [
    "it = db.get_iterator_by_names('train')\n",
    "transform = Compose(AudioReader(), Spectrogram(config=transform_config))\n",
    "it = it.map(transform, num_workers=8, buffer_size=100, backend=\"mp\")"
   ]
  },
  {
   "cell_type": "code",
   "execution_count": null,
   "metadata": {},
   "outputs": [],
   "source": [
    "%%timeit -n 1 -r 1\n",
    "for i, ex in enumerate(it):\n",
    "    pass"
   ]
  },
  {
   "cell_type": "markdown",
   "metadata": {},
   "source": [
    "# Parallel Map with multithreading"
   ]
  },
  {
   "cell_type": "code",
   "execution_count": null,
   "metadata": {},
   "outputs": [],
   "source": [
    "it = db.get_iterator_by_names('train')\n",
    "transform = Compose(AudioReader(), Spectrogram(config=transform_config))\n",
    "it = it.map(transform, num_workers=8, buffer_size=100, backend=\"t\")"
   ]
  },
  {
   "cell_type": "code",
   "execution_count": null,
   "metadata": {},
   "outputs": [],
   "source": [
    "%%timeit -n 1 -r 1\n",
    "for i, ex in enumerate(it):\n",
    "    pass"
   ]
  },
  {
   "cell_type": "markdown",
   "metadata": {},
   "source": [
    "# Prefetch with multithreading"
   ]
  },
  {
   "cell_type": "code",
   "execution_count": null,
   "metadata": {},
   "outputs": [],
   "source": [
    "it = db.get_iterator_by_names('train')\n",
    "transform = Compose(AudioReader(), Spectrogram(config=transform_config))\n",
    "it = it.map(transform)\n",
    "it = it.prefetch(num_workers=8, buffer_size=100, backend=\"t\")"
   ]
  },
  {
   "cell_type": "code",
   "execution_count": null,
   "metadata": {},
   "outputs": [],
   "source": [
    "%%timeit -n 1 -r 1\n",
    "for i, ex in enumerate(it):\n",
    "    pass"
   ]
  },
  {
   "cell_type": "markdown",
   "metadata": {},
   "source": [
    "# Pytorch DataLoader"
   ]
  },
  {
   "cell_type": "markdown",
   "metadata": {},
   "source": [
    "## Serial"
   ]
  },
  {
   "cell_type": "code",
   "execution_count": null,
   "metadata": {},
   "outputs": [],
   "source": [
    "from torch.utils.data import DataLoader\n",
    "it = db.get_iterator_by_names('train')\n",
    "transform = Compose(AudioReader(), Spectrogram(config=transform_config))\n",
    "it = it.map(transform)\n",
    "it = DataLoader(it, num_workers=0, batch_size=1, collate_fn=lambda x:x)"
   ]
  },
  {
   "cell_type": "code",
   "execution_count": null,
   "metadata": {},
   "outputs": [],
   "source": [
    "%%timeit -n 1 -r 1\n",
    "for i, ex in enumerate(it):\n",
    "    pass"
   ]
  },
  {
   "cell_type": "markdown",
   "metadata": {},
   "source": [
    "# Parallel"
   ]
  },
  {
   "cell_type": "code",
   "execution_count": null,
   "metadata": {},
   "outputs": [],
   "source": [
    "from torch.utils.data import DataLoader\n",
    "it = db.get_iterator_by_names('train')\n",
    "transform = Compose(AudioReader(), Spectrogram(config=transform_config))\n",
    "it = it.map(transform)\n",
    "it = DataLoader(it, num_workers=8, batch_size=1, collate_fn=lambda x:x)"
   ]
  },
  {
   "cell_type": "code",
   "execution_count": null,
   "metadata": {},
   "outputs": [],
   "source": [
    "%%timeit -n 1 -r 1\n",
    "for i, ex in enumerate(it):\n",
    "    pass"
   ]
  }
 ],
 "metadata": {
  "kernelspec": {
   "display_name": "pytorch_env",
   "language": "python",
   "name": "pytorch_env"
  },
  "language_info": {
   "codemirror_mode": {
    "name": "ipython",
    "version": 3
   },
   "file_extension": ".py",
   "mimetype": "text/x-python",
   "name": "python",
   "nbconvert_exporter": "python",
   "pygments_lexer": "ipython3",
   "version": "3.6.2"
  }
 },
 "nbformat": 4,
 "nbformat_minor": 2
}
